{
 "cells": [
  {
   "cell_type": "markdown",
   "id": "c92864ba",
   "metadata": {},
   "source": [
    "## Preparing for Data Scraping"
   ]
  },
  {
   "cell_type": "markdown",
   "id": "3c25b631",
   "metadata": {},
   "source": [
    "Public Data Source: https://www.seoul.go.kr/coronaV/coronaStatus.do"
   ]
  },
  {
   "cell_type": "code",
   "execution_count": 583,
   "id": "669dab12",
   "metadata": {},
   "outputs": [],
   "source": [
    "import pandas as pd\n",
    "import numpy as np"
   ]
  },
  {
   "cell_type": "code",
   "execution_count": 584,
   "id": "e135e3cb",
   "metadata": {},
   "outputs": [],
   "source": [
    "import requests"
   ]
  },
  {
   "cell_type": "code",
   "execution_count": 585,
   "id": "dd35e344",
   "metadata": {},
   "outputs": [
    {
     "data": {
      "text/plain": [
       "'https://news.seoul.go.kr/api/27/getCorona19Status/get_status_ajax.php?draw=1&start=0&length=100'"
      ]
     },
     "execution_count": 585,
     "metadata": {},
     "output_type": "execute_result"
    }
   ],
   "source": [
    "url = \"https://news.seoul.go.kr/api/27/getCorona19Status/get_status_ajax.php?draw=1\"\n",
    "#url = f\"{url}&columns%5B0%5D%5Bdata%5D=0&columns%5B0%5D%5Bname%5D=&columns%5B0%5D%5Bsearchable%5D=true&columns%5B0%5D%5Borderable%5D=true&columns%5B0%5D%5Bsearch%5D%5Bvalue%5D=&columns%5B0%5D%5Bsearch%5D%5Bregex%5D=false&columns%5B1%5D%5Bdata%5D=1&columns%5B1%5D%5Bname%5D=&columns%5B1%5D%5Bsearchable%5D=true&columns%5B1%5D%5Borderable%5D=true&columns%5B1%5D%5Bsearch%5D%5Bvalue%5D=&columns%5B1%5D%5Bsearch%5D%5Bregex%5D=false&columns%5B2%5D%5Bdata%5D=2&columns%5B2%5D%5Bname%5D=&columns%5B2%5D%5Bsearchable%5D=true&columns%5B2%5D%5Borderable%5D=true&columns%5B2%5D%5Bsearch%5D%5Bvalue%5D=&columns%5B2%5D%5Bsearch%5D%5Bregex%5D=false&columns%5B3%5D%5Bdata%5D=3&columns%5B3%5D%5Bname%5D=&columns%5B3%5D%5Bsearchable%5D=true&columns%5B3%5D%5Borderable%5D=true&columns%5B3%5D%5Bsearch%5D%5Bvalue%5D=&columns%5B3%5D%5Bsearch%5D%5Bregex%5D=false&columns%5B4%5D%5Bdata%5D=4&columns%5B4%5D%5Bname%5D=&columns%5B4%5D%5Bsearchable%5D=true&columns%5B4%5D%5Borderable%5D=true&columns%5B4%5D%5Bsearch%5D%5Bvalue%5D=&columns%5B4%5D%5Bsearch%5D%5Bregex%5D=false&columns%5B5%5D%5Bdata%5D=5&columns%5B5%5D%5Bname%5D=&columns%5B5%5D%5Bsearchable%5D=true&columns%5B5%5D%5Borderable%5D=true&columns%5B5%5D%5Bsearch%5D%5Bvalue%5D=&columns%5B5%5D%5Bsearch%5D%5Bregex%5D=false&columns%5B6%5D%5Bdata%5D=6&columns%5B6%5D%5Bname%5D=&columns%5B6%5D%5Bsearchable%5D=true&columns%5B6%5D%5Borderable%5D=true&columns%5B6%5D%5Bsearch%5D%5Bvalue%5D=&columns%5B6%5D%5Bsearch%5D%5Bregex%5D=false&order%5B0%5D%5Bcolumn%5D=0&order%5B0%5D%5Bdir%5D=desc\"\n",
    "url = f\"{url}&start=0&length=100\"\n",
    "#\"&search%5Bvalue%5D=&search%5Bregex%5D=true&_=1628930508535\"\n",
    "url"
   ]
  },
  {
   "cell_type": "code",
   "execution_count": 586,
   "id": "812bfc30",
   "metadata": {},
   "outputs": [],
   "source": [
    "response = requests.get(url)\n",
    "data_json = response.json()\n",
    "# pd.DataFrame(data_json['data'])\n"
   ]
  },
  {
   "cell_type": "code",
   "execution_count": 587,
   "id": "d15d8a14",
   "metadata": {},
   "outputs": [
    {
     "data": {
      "text/plain": [
       "42086"
      ]
     },
     "execution_count": 587,
     "metadata": {},
     "output_type": "execute_result"
    }
   ],
   "source": [
    "records_total = data_json['recordsTotal']\n",
    "records_total"
   ]
  },
  {
   "cell_type": "code",
   "execution_count": 588,
   "id": "2bf92d38",
   "metadata": {},
   "outputs": [
    {
     "data": {
      "text/plain": [
       "422"
      ]
     },
     "execution_count": 588,
     "metadata": {},
     "output_type": "execute_result"
    }
   ],
   "source": [
    "end_page = round(records_total/ 100) + 1\n",
    "end_page                                        # used in get_multi_page_list function"
   ]
  },
  {
   "cell_type": "code",
   "execution_count": 589,
   "id": "e8adf8b4",
   "metadata": {},
   "outputs": [],
   "source": [
    "data = data_json[\"data\"]"
   ]
  },
  {
   "cell_type": "code",
   "execution_count": 590,
   "id": "9d7abc8d",
   "metadata": {},
   "outputs": [
    {
     "data": {
      "text/html": [
       "<div>\n",
       "<style scoped>\n",
       "    .dataframe tbody tr th:only-of-type {\n",
       "        vertical-align: middle;\n",
       "    }\n",
       "\n",
       "    .dataframe tbody tr th {\n",
       "        vertical-align: top;\n",
       "    }\n",
       "\n",
       "    .dataframe thead th {\n",
       "        text-align: right;\n",
       "    }\n",
       "</style>\n",
       "<table border=\"1\" class=\"dataframe\">\n",
       "  <thead>\n",
       "    <tr style=\"text-align: right;\">\n",
       "      <th></th>\n",
       "      <th>0</th>\n",
       "      <th>1</th>\n",
       "      <th>2</th>\n",
       "      <th>3</th>\n",
       "      <th>4</th>\n",
       "      <th>5</th>\n",
       "      <th>6</th>\n",
       "    </tr>\n",
       "  </thead>\n",
       "  <tbody>\n",
       "    <tr>\n",
       "      <th>0</th>\n",
       "      <td>&lt;p class='corona19_no'&gt;72086&lt;/p&gt;</td>\n",
       "      <td>226846</td>\n",
       "      <td>2021-08-16</td>\n",
       "      <td>동대문구</td>\n",
       "      <td>-</td>\n",
       "      <td>감염경로 조사중</td>\n",
       "      <td>&lt;b class=''&gt;-&lt;/b&gt;</td>\n",
       "    </tr>\n",
       "    <tr>\n",
       "      <th>1</th>\n",
       "      <td>&lt;p class='corona19_no'&gt;72085&lt;/p&gt;</td>\n",
       "      <td>226698</td>\n",
       "      <td>2021-08-16</td>\n",
       "      <td>관악구</td>\n",
       "      <td>-</td>\n",
       "      <td>기타 확진자 접촉</td>\n",
       "      <td>&lt;b class=''&gt;-&lt;/b&gt;</td>\n",
       "    </tr>\n",
       "    <tr>\n",
       "      <th>2</th>\n",
       "      <td>&lt;p class='corona19_no'&gt;72084&lt;/p&gt;</td>\n",
       "      <td>226685</td>\n",
       "      <td>2021-08-16</td>\n",
       "      <td>강남구</td>\n",
       "      <td>-</td>\n",
       "      <td>감염경로 조사중</td>\n",
       "      <td>&lt;b class=''&gt;-&lt;/b&gt;</td>\n",
       "    </tr>\n",
       "    <tr>\n",
       "      <th>3</th>\n",
       "      <td>&lt;p class='corona19_no'&gt;72083&lt;/p&gt;</td>\n",
       "      <td>226669</td>\n",
       "      <td>2021-08-16</td>\n",
       "      <td>마포구</td>\n",
       "      <td>-</td>\n",
       "      <td>기타 확진자 접촉</td>\n",
       "      <td>&lt;b class=''&gt;-&lt;/b&gt;</td>\n",
       "    </tr>\n",
       "    <tr>\n",
       "      <th>4</th>\n",
       "      <td>&lt;p class='corona19_no'&gt;72082&lt;/p&gt;</td>\n",
       "      <td>226644</td>\n",
       "      <td>2021-08-16</td>\n",
       "      <td>강남구</td>\n",
       "      <td>미국</td>\n",
       "      <td>해외유입</td>\n",
       "      <td>&lt;b class=''&gt;-&lt;/b&gt;</td>\n",
       "    </tr>\n",
       "    <tr>\n",
       "      <th>...</th>\n",
       "      <td>...</td>\n",
       "      <td>...</td>\n",
       "      <td>...</td>\n",
       "      <td>...</td>\n",
       "      <td>...</td>\n",
       "      <td>...</td>\n",
       "      <td>...</td>\n",
       "    </tr>\n",
       "    <tr>\n",
       "      <th>95</th>\n",
       "      <td>&lt;p class='corona19_no'&gt;71991&lt;/p&gt;</td>\n",
       "      <td>226153</td>\n",
       "      <td>2021-08-16</td>\n",
       "      <td>도봉구</td>\n",
       "      <td>-</td>\n",
       "      <td>감염경로 조사중</td>\n",
       "      <td>&lt;b class=''&gt;-&lt;/b&gt;</td>\n",
       "    </tr>\n",
       "    <tr>\n",
       "      <th>96</th>\n",
       "      <td>&lt;p class='corona19_no'&gt;71990&lt;/p&gt;</td>\n",
       "      <td>226466</td>\n",
       "      <td>2021-08-16</td>\n",
       "      <td>영등포구</td>\n",
       "      <td>-</td>\n",
       "      <td>기타 확진자 접촉</td>\n",
       "      <td>&lt;b class=''&gt;-&lt;/b&gt;</td>\n",
       "    </tr>\n",
       "    <tr>\n",
       "      <th>97</th>\n",
       "      <td>&lt;p class='corona19_no'&gt;71989&lt;/p&gt;</td>\n",
       "      <td>226474</td>\n",
       "      <td>2021-08-16</td>\n",
       "      <td>영등포구</td>\n",
       "      <td>-</td>\n",
       "      <td>타시도 확진자 접촉</td>\n",
       "      <td>&lt;b class=''&gt;-&lt;/b&gt;</td>\n",
       "    </tr>\n",
       "    <tr>\n",
       "      <th>98</th>\n",
       "      <td>&lt;p class='corona19_no'&gt;71988&lt;/p&gt;</td>\n",
       "      <td>226352</td>\n",
       "      <td>2021-08-16</td>\n",
       "      <td>은평구</td>\n",
       "      <td>-</td>\n",
       "      <td>기타 확진자 접촉</td>\n",
       "      <td>&lt;b class=''&gt;-&lt;/b&gt;</td>\n",
       "    </tr>\n",
       "    <tr>\n",
       "      <th>99</th>\n",
       "      <td>&lt;p class='corona19_no'&gt;71987&lt;/p&gt;</td>\n",
       "      <td>226853</td>\n",
       "      <td>2021-08-16</td>\n",
       "      <td>서대문구</td>\n",
       "      <td>-</td>\n",
       "      <td>기타 확진자 접촉</td>\n",
       "      <td>&lt;b class=''&gt;-&lt;/b&gt;</td>\n",
       "    </tr>\n",
       "  </tbody>\n",
       "</table>\n",
       "<p>100 rows × 7 columns</p>\n",
       "</div>"
      ],
      "text/plain": [
       "                                   0       1           2     3   4  \\\n",
       "0   <p class='corona19_no'>72086</p>  226846  2021-08-16  동대문구   -   \n",
       "1   <p class='corona19_no'>72085</p>  226698  2021-08-16   관악구   -   \n",
       "2   <p class='corona19_no'>72084</p>  226685  2021-08-16   강남구   -   \n",
       "3   <p class='corona19_no'>72083</p>  226669  2021-08-16   마포구   -   \n",
       "4   <p class='corona19_no'>72082</p>  226644  2021-08-16   강남구  미국   \n",
       "..                               ...     ...         ...   ...  ..   \n",
       "95  <p class='corona19_no'>71991</p>  226153  2021-08-16   도봉구   -   \n",
       "96  <p class='corona19_no'>71990</p>  226466  2021-08-16  영등포구   -   \n",
       "97  <p class='corona19_no'>71989</p>  226474  2021-08-16  영등포구   -   \n",
       "98  <p class='corona19_no'>71988</p>  226352  2021-08-16   은평구   -   \n",
       "99  <p class='corona19_no'>71987</p>  226853  2021-08-16  서대문구   -   \n",
       "\n",
       "             5                  6  \n",
       "0     감염경로 조사중  <b class=''>-</b>  \n",
       "1    기타 확진자 접촉  <b class=''>-</b>  \n",
       "2     감염경로 조사중  <b class=''>-</b>  \n",
       "3    기타 확진자 접촉  <b class=''>-</b>  \n",
       "4         해외유입  <b class=''>-</b>  \n",
       "..         ...                ...  \n",
       "95    감염경로 조사중  <b class=''>-</b>  \n",
       "96   기타 확진자 접촉  <b class=''>-</b>  \n",
       "97  타시도 확진자 접촉  <b class=''>-</b>  \n",
       "98   기타 확진자 접촉  <b class=''>-</b>  \n",
       "99   기타 확진자 접촉  <b class=''>-</b>  \n",
       "\n",
       "[100 rows x 7 columns]"
      ]
     },
     "execution_count": 590,
     "metadata": {},
     "output_type": "execute_result"
    }
   ],
   "source": [
    "pd.DataFrame(data)"
   ]
  },
  {
   "cell_type": "markdown",
   "id": "06d28897",
   "metadata": {},
   "source": [
    "## Function for scraping one pages"
   ]
  },
  {
   "cell_type": "code",
   "execution_count": 591,
   "id": "10fa6df2",
   "metadata": {},
   "outputs": [],
   "source": [
    "def get_seoul_covid19_100(page_no):\n",
    "    start_no = (page_no - 1) * 100\n",
    "    url = f\"https://news.seoul.go.kr/api/27/getCorona19Status/get_status_ajax.php?draw={page_no}\"\n",
    "    url = f\"{url}&start={start_no}&length=100\"\n",
    "    response = requests.get(url)\n",
    "    data_json = response.json()\n",
    "    return data_json"
   ]
  },
  {
   "cell_type": "code",
   "execution_count": 592,
   "id": "dbcc8d55",
   "metadata": {},
   "outputs": [
    {
     "data": {
      "text/plain": [
       "{'draw': -1, 'recordsTotal': 42086, 'recordsFiltered': 42086, 'data': []}"
      ]
     },
     "execution_count": 592,
     "metadata": {},
     "output_type": "execute_result"
    }
   ],
   "source": [
    "# data unavailable\n",
    "get_seoul_covid19_100(-1)"
   ]
  },
  {
   "cell_type": "markdown",
   "id": "aef37043",
   "metadata": {},
   "source": [
    "## Python code for combining all pages"
   ]
  },
  {
   "cell_type": "code",
   "execution_count": 593,
   "id": "614f851f",
   "metadata": {},
   "outputs": [],
   "source": [
    "# to prevent network demage\n",
    "import time\n",
    "# tqdm: process check\n",
    "from tqdm import trange"
   ]
  },
  {
   "cell_type": "code",
   "execution_count": 594,
   "id": "463c7720",
   "metadata": {},
   "outputs": [],
   "source": [
    "def get_multi_page_list(start_page, end_page):\n",
    "    page_list = []\n",
    "    for page_no in trange(start_page, end_page + 1):\n",
    "        one_page = get_seoul_covid19_100(page_no)\n",
    "        # break when page is empty\n",
    "        if len(one_page['data']) > 0:\n",
    "            one_page = pd.DataFrame(one_page['data'])\n",
    "            page_list.append(one_page)\n",
    "        else:\n",
    "            return page_list\n",
    "    return page_list\n",
    "        \n",
    "    \n"
   ]
  },
  {
   "cell_type": "code",
   "execution_count": 595,
   "id": "c138e35d",
   "metadata": {},
   "outputs": [
    {
     "data": {
      "text/plain": [
       "422"
      ]
     },
     "execution_count": 595,
     "metadata": {},
     "output_type": "execute_result"
    }
   ],
   "source": [
    "end_page"
   ]
  },
  {
   "cell_type": "code",
   "execution_count": 596,
   "id": "431fbec3",
   "metadata": {},
   "outputs": [
    {
     "name": "stderr",
     "output_type": "stream",
     "text": [
      "100%|█████████▉| 421/422 [09:18<00:01,  1.33s/it]\n"
     ]
    },
    {
     "data": {
      "text/plain": [
       "[                                   0       1           2     3   4  \\\n",
       " 0   <p class='corona19_no'>72086</p>  226846  2021-08-16  동대문구   -   \n",
       " 1   <p class='corona19_no'>72085</p>  226698  2021-08-16   관악구   -   \n",
       " 2   <p class='corona19_no'>72084</p>  226685  2021-08-16   강남구   -   \n",
       " 3   <p class='corona19_no'>72083</p>  226669  2021-08-16   마포구   -   \n",
       " 4   <p class='corona19_no'>72082</p>  226644  2021-08-16   강남구  미국   \n",
       " ..                               ...     ...         ...   ...  ..   \n",
       " 95  <p class='corona19_no'>71991</p>  226153  2021-08-16   도봉구   -   \n",
       " 96  <p class='corona19_no'>71990</p>  226466  2021-08-16  영등포구   -   \n",
       " 97  <p class='corona19_no'>71989</p>  226474  2021-08-16  영등포구   -   \n",
       " 98  <p class='corona19_no'>71988</p>  226352  2021-08-16   은평구   -   \n",
       " 99  <p class='corona19_no'>71987</p>  226853  2021-08-16  서대문구   -   \n",
       " \n",
       "              5                  6  \n",
       " 0     감염경로 조사중  <b class=''>-</b>  \n",
       " 1    기타 확진자 접촉  <b class=''>-</b>  \n",
       " 2     감염경로 조사중  <b class=''>-</b>  \n",
       " 3    기타 확진자 접촉  <b class=''>-</b>  \n",
       " 4         해외유입  <b class=''>-</b>  \n",
       " ..         ...                ...  \n",
       " 95    감염경로 조사중  <b class=''>-</b>  \n",
       " 96   기타 확진자 접촉  <b class=''>-</b>  \n",
       " 97  타시도 확진자 접촉  <b class=''>-</b>  \n",
       " 98   기타 확진자 접촉  <b class=''>-</b>  \n",
       " 99   기타 확진자 접촉  <b class=''>-</b>  \n",
       " \n",
       " [100 rows x 7 columns]]"
      ]
     },
     "execution_count": 596,
     "metadata": {},
     "output_type": "execute_result"
    }
   ],
   "source": [
    "# Test Code\n",
    "start_page = 1\n",
    "end_page = round(records_total/ 100) + 1\n",
    "# end_page = 205\n",
    "page_list = get_multi_page_list(start_page, end_page)\n",
    "page_list[:1]"
   ]
  },
  {
   "cell_type": "code",
   "execution_count": 597,
   "id": "8e365307",
   "metadata": {},
   "outputs": [
    {
     "data": {
      "text/plain": [
       "(42086, 7)"
      ]
     },
     "execution_count": 597,
     "metadata": {},
     "output_type": "execute_result"
    }
   ],
   "source": [
    "df_all = pd.concat(page_list)\n",
    "df_all.shape"
   ]
  },
  {
   "cell_type": "code",
   "execution_count": 598,
   "id": "26bb918b",
   "metadata": {},
   "outputs": [],
   "source": [
    "cols = ['Number','Patient','Confirmed Date','Area','Travel History','Transmission Route','Status']"
   ]
  },
  {
   "cell_type": "code",
   "execution_count": 599,
   "id": "212e466f",
   "metadata": {},
   "outputs": [],
   "source": [
    "df_all.columns = cols"
   ]
  },
  {
   "cell_type": "code",
   "execution_count": 600,
   "id": "6b9f1312",
   "metadata": {},
   "outputs": [
    {
     "data": {
      "text/html": [
       "<div>\n",
       "<style scoped>\n",
       "    .dataframe tbody tr th:only-of-type {\n",
       "        vertical-align: middle;\n",
       "    }\n",
       "\n",
       "    .dataframe tbody tr th {\n",
       "        vertical-align: top;\n",
       "    }\n",
       "\n",
       "    .dataframe thead th {\n",
       "        text-align: right;\n",
       "    }\n",
       "</style>\n",
       "<table border=\"1\" class=\"dataframe\">\n",
       "  <thead>\n",
       "    <tr style=\"text-align: right;\">\n",
       "      <th></th>\n",
       "      <th>Number</th>\n",
       "      <th>Patient</th>\n",
       "      <th>Confirmed Date</th>\n",
       "      <th>Area</th>\n",
       "      <th>Travel History</th>\n",
       "      <th>Transmission Route</th>\n",
       "      <th>Status</th>\n",
       "    </tr>\n",
       "  </thead>\n",
       "  <tbody>\n",
       "    <tr>\n",
       "      <th>0</th>\n",
       "      <td>&lt;p class='corona19_no'&gt;72086&lt;/p&gt;</td>\n",
       "      <td>226846</td>\n",
       "      <td>2021-08-16</td>\n",
       "      <td>동대문구</td>\n",
       "      <td>-</td>\n",
       "      <td>감염경로 조사중</td>\n",
       "      <td>&lt;b class=''&gt;-&lt;/b&gt;</td>\n",
       "    </tr>\n",
       "    <tr>\n",
       "      <th>1</th>\n",
       "      <td>&lt;p class='corona19_no'&gt;72085&lt;/p&gt;</td>\n",
       "      <td>226698</td>\n",
       "      <td>2021-08-16</td>\n",
       "      <td>관악구</td>\n",
       "      <td>-</td>\n",
       "      <td>기타 확진자 접촉</td>\n",
       "      <td>&lt;b class=''&gt;-&lt;/b&gt;</td>\n",
       "    </tr>\n",
       "    <tr>\n",
       "      <th>2</th>\n",
       "      <td>&lt;p class='corona19_no'&gt;72084&lt;/p&gt;</td>\n",
       "      <td>226685</td>\n",
       "      <td>2021-08-16</td>\n",
       "      <td>강남구</td>\n",
       "      <td>-</td>\n",
       "      <td>감염경로 조사중</td>\n",
       "      <td>&lt;b class=''&gt;-&lt;/b&gt;</td>\n",
       "    </tr>\n",
       "    <tr>\n",
       "      <th>3</th>\n",
       "      <td>&lt;p class='corona19_no'&gt;72083&lt;/p&gt;</td>\n",
       "      <td>226669</td>\n",
       "      <td>2021-08-16</td>\n",
       "      <td>마포구</td>\n",
       "      <td>-</td>\n",
       "      <td>기타 확진자 접촉</td>\n",
       "      <td>&lt;b class=''&gt;-&lt;/b&gt;</td>\n",
       "    </tr>\n",
       "    <tr>\n",
       "      <th>4</th>\n",
       "      <td>&lt;p class='corona19_no'&gt;72082&lt;/p&gt;</td>\n",
       "      <td>226644</td>\n",
       "      <td>2021-08-16</td>\n",
       "      <td>강남구</td>\n",
       "      <td>미국</td>\n",
       "      <td>해외유입</td>\n",
       "      <td>&lt;b class=''&gt;-&lt;/b&gt;</td>\n",
       "    </tr>\n",
       "  </tbody>\n",
       "</table>\n",
       "</div>"
      ],
      "text/plain": [
       "                             Number Patient Confirmed Date  Area  \\\n",
       "0  <p class='corona19_no'>72086</p>  226846     2021-08-16  동대문구   \n",
       "1  <p class='corona19_no'>72085</p>  226698     2021-08-16   관악구   \n",
       "2  <p class='corona19_no'>72084</p>  226685     2021-08-16   강남구   \n",
       "3  <p class='corona19_no'>72083</p>  226669     2021-08-16   마포구   \n",
       "4  <p class='corona19_no'>72082</p>  226644     2021-08-16   강남구   \n",
       "\n",
       "  Travel History Transmission Route             Status  \n",
       "0              -           감염경로 조사중  <b class=''>-</b>  \n",
       "1              -          기타 확진자 접촉  <b class=''>-</b>  \n",
       "2              -           감염경로 조사중  <b class=''>-</b>  \n",
       "3              -          기타 확진자 접촉  <b class=''>-</b>  \n",
       "4             미국               해외유입  <b class=''>-</b>  "
      ]
     },
     "execution_count": 600,
     "metadata": {},
     "output_type": "execute_result"
    }
   ],
   "source": [
    "df_all.head()"
   ]
  },
  {
   "cell_type": "code",
   "execution_count": 601,
   "id": "e80b132b",
   "metadata": {},
   "outputs": [
    {
     "data": {
      "text/plain": [
       "(42086, 7)"
      ]
     },
     "execution_count": 601,
     "metadata": {},
     "output_type": "execute_result"
    }
   ],
   "source": [
    "df_all.shape"
   ]
  },
  {
   "cell_type": "markdown",
   "id": "cf5a70d5",
   "metadata": {},
   "source": [
    "## Data Preprocessing"
   ]
  },
  {
   "cell_type": "markdown",
   "id": "ac702255",
   "metadata": {},
   "source": [
    "### Number and Status"
   ]
  },
  {
   "cell_type": "code",
   "execution_count": 602,
   "id": "41c51325",
   "metadata": {},
   "outputs": [],
   "source": [
    "import re\n",
    "def extract_number(num_string):\n",
    "    if type(num_string) == str:\n",
    "        num_string = num_string.replace(\"corona19\", \"\")\n",
    "        num = re.sub(\"[^0-9]\", \"\", num_string)\n",
    "        num = int(num)\n",
    "        return num\n",
    "    else:\n",
    "        return num_string"
   ]
  },
  {
   "cell_type": "code",
   "execution_count": 603,
   "id": "76044d2a",
   "metadata": {},
   "outputs": [
    {
     "data": {
      "text/plain": [
       "7625"
      ]
     },
     "execution_count": 603,
     "metadata": {},
     "output_type": "execute_result"
    }
   ],
   "source": [
    "num_string = \"<p class='corona19_no'>7625</p>\"\n",
    "extract_number(num_string)"
   ]
  },
  {
   "cell_type": "code",
   "execution_count": 604,
   "id": "067e315c",
   "metadata": {},
   "outputs": [],
   "source": [
    "df_all['Number'] = df_all[\"Number\"].map(extract_number)"
   ]
  },
  {
   "cell_type": "code",
   "execution_count": 605,
   "id": "7e0ddd16",
   "metadata": {},
   "outputs": [
    {
     "data": {
      "text/html": [
       "<div>\n",
       "<style scoped>\n",
       "    .dataframe tbody tr th:only-of-type {\n",
       "        vertical-align: middle;\n",
       "    }\n",
       "\n",
       "    .dataframe tbody tr th {\n",
       "        vertical-align: top;\n",
       "    }\n",
       "\n",
       "    .dataframe thead th {\n",
       "        text-align: right;\n",
       "    }\n",
       "</style>\n",
       "<table border=\"1\" class=\"dataframe\">\n",
       "  <thead>\n",
       "    <tr style=\"text-align: right;\">\n",
       "      <th></th>\n",
       "      <th>Number</th>\n",
       "      <th>Patient</th>\n",
       "      <th>Confirmed Date</th>\n",
       "      <th>Area</th>\n",
       "      <th>Travel History</th>\n",
       "      <th>Transmission Route</th>\n",
       "      <th>Status</th>\n",
       "    </tr>\n",
       "  </thead>\n",
       "  <tbody>\n",
       "    <tr>\n",
       "      <th>0</th>\n",
       "      <td>72086</td>\n",
       "      <td>226846</td>\n",
       "      <td>2021-08-16</td>\n",
       "      <td>동대문구</td>\n",
       "      <td>-</td>\n",
       "      <td>감염경로 조사중</td>\n",
       "      <td>&lt;b class=''&gt;-&lt;/b&gt;</td>\n",
       "    </tr>\n",
       "    <tr>\n",
       "      <th>1</th>\n",
       "      <td>72085</td>\n",
       "      <td>226698</td>\n",
       "      <td>2021-08-16</td>\n",
       "      <td>관악구</td>\n",
       "      <td>-</td>\n",
       "      <td>기타 확진자 접촉</td>\n",
       "      <td>&lt;b class=''&gt;-&lt;/b&gt;</td>\n",
       "    </tr>\n",
       "    <tr>\n",
       "      <th>2</th>\n",
       "      <td>72084</td>\n",
       "      <td>226685</td>\n",
       "      <td>2021-08-16</td>\n",
       "      <td>강남구</td>\n",
       "      <td>-</td>\n",
       "      <td>감염경로 조사중</td>\n",
       "      <td>&lt;b class=''&gt;-&lt;/b&gt;</td>\n",
       "    </tr>\n",
       "    <tr>\n",
       "      <th>3</th>\n",
       "      <td>72083</td>\n",
       "      <td>226669</td>\n",
       "      <td>2021-08-16</td>\n",
       "      <td>마포구</td>\n",
       "      <td>-</td>\n",
       "      <td>기타 확진자 접촉</td>\n",
       "      <td>&lt;b class=''&gt;-&lt;/b&gt;</td>\n",
       "    </tr>\n",
       "    <tr>\n",
       "      <th>4</th>\n",
       "      <td>72082</td>\n",
       "      <td>226644</td>\n",
       "      <td>2021-08-16</td>\n",
       "      <td>강남구</td>\n",
       "      <td>미국</td>\n",
       "      <td>해외유입</td>\n",
       "      <td>&lt;b class=''&gt;-&lt;/b&gt;</td>\n",
       "    </tr>\n",
       "  </tbody>\n",
       "</table>\n",
       "</div>"
      ],
      "text/plain": [
       "   Number Patient Confirmed Date  Area Travel History Transmission Route  \\\n",
       "0   72086  226846     2021-08-16  동대문구              -           감염경로 조사중   \n",
       "1   72085  226698     2021-08-16   관악구              -          기타 확진자 접촉   \n",
       "2   72084  226685     2021-08-16   강남구              -           감염경로 조사중   \n",
       "3   72083  226669     2021-08-16   마포구              -          기타 확진자 접촉   \n",
       "4   72082  226644     2021-08-16   강남구             미국               해외유입   \n",
       "\n",
       "              Status  \n",
       "0  <b class=''>-</b>  \n",
       "1  <b class=''>-</b>  \n",
       "2  <b class=''>-</b>  \n",
       "3  <b class=''>-</b>  \n",
       "4  <b class=''>-</b>  "
      ]
     },
     "execution_count": 605,
     "metadata": {},
     "output_type": "execute_result"
    }
   ],
   "source": [
    "df_all.head()"
   ]
  },
  {
   "cell_type": "code",
   "execution_count": 606,
   "id": "c493bed7",
   "metadata": {},
   "outputs": [],
   "source": [
    "def extract_hangeul(origin_text):\n",
    "    subtract_text = re.sub(\"[^가-힣]\", \"\", origin_text)\n",
    "    return subtract_text"
   ]
  },
  {
   "cell_type": "code",
   "execution_count": 607,
   "id": "f61bb76f",
   "metadata": {},
   "outputs": [
    {
     "data": {
      "text/plain": [
       "'퇴원'"
      ]
     },
     "execution_count": 607,
     "metadata": {},
     "output_type": "execute_result"
    }
   ],
   "source": [
    "extract_hangeul(\"<b class='status1'>퇴원</b>\")"
   ]
  },
  {
   "cell_type": "code",
   "execution_count": 608,
   "id": "8b63da8a",
   "metadata": {},
   "outputs": [
    {
     "data": {
      "text/plain": [
       "'사망'"
      ]
     },
     "execution_count": 608,
     "metadata": {},
     "output_type": "execute_result"
    }
   ],
   "source": [
    "extract_hangeul(\"<b class='status2'>사망</b>\")"
   ]
  },
  {
   "cell_type": "code",
   "execution_count": 609,
   "id": "56b46828",
   "metadata": {},
   "outputs": [
    {
     "data": {
      "text/plain": [
       "''"
      ]
     },
     "execution_count": 609,
     "metadata": {},
     "output_type": "execute_result"
    }
   ],
   "source": [
    "extract_hangeul(\"<b class=''>-</b>\")"
   ]
  },
  {
   "cell_type": "code",
   "execution_count": 610,
   "id": "26be6a56",
   "metadata": {},
   "outputs": [
    {
     "data": {
      "text/plain": [
       "<b class='status1'>퇴원</b>    32800\n",
       "<b class='status1'>-</b>      5177\n",
       "<b class=''>-</b>             3767\n",
       "<b class='status2'>-</b>       216\n",
       "<b class='status2'>사망</b>      126\n",
       "Name: Status, dtype: int64"
      ]
     },
     "execution_count": 610,
     "metadata": {},
     "output_type": "execute_result"
    }
   ],
   "source": [
    "df_all[\"Status\"].value_counts()"
   ]
  },
  {
   "cell_type": "code",
   "execution_count": 611,
   "id": "edfde80e",
   "metadata": {},
   "outputs": [
    {
     "data": {
      "text/html": [
       "<div>\n",
       "<style scoped>\n",
       "    .dataframe tbody tr th:only-of-type {\n",
       "        vertical-align: middle;\n",
       "    }\n",
       "\n",
       "    .dataframe tbody tr th {\n",
       "        vertical-align: top;\n",
       "    }\n",
       "\n",
       "    .dataframe thead th {\n",
       "        text-align: right;\n",
       "    }\n",
       "</style>\n",
       "<table border=\"1\" class=\"dataframe\">\n",
       "  <thead>\n",
       "    <tr style=\"text-align: right;\">\n",
       "      <th></th>\n",
       "      <th>Number</th>\n",
       "      <th>Patient</th>\n",
       "      <th>Confirmed Date</th>\n",
       "      <th>Area</th>\n",
       "      <th>Travel History</th>\n",
       "      <th>Transmission Route</th>\n",
       "      <th>Status</th>\n",
       "    </tr>\n",
       "  </thead>\n",
       "  <tbody>\n",
       "    <tr>\n",
       "      <th>0</th>\n",
       "      <td>72086</td>\n",
       "      <td>226846</td>\n",
       "      <td>2021-08-16</td>\n",
       "      <td>동대문구</td>\n",
       "      <td>-</td>\n",
       "      <td>감염경로 조사중</td>\n",
       "      <td>Quarantined</td>\n",
       "    </tr>\n",
       "    <tr>\n",
       "      <th>1</th>\n",
       "      <td>72085</td>\n",
       "      <td>226698</td>\n",
       "      <td>2021-08-16</td>\n",
       "      <td>관악구</td>\n",
       "      <td>-</td>\n",
       "      <td>기타 확진자 접촉</td>\n",
       "      <td>Quarantined</td>\n",
       "    </tr>\n",
       "    <tr>\n",
       "      <th>2</th>\n",
       "      <td>72084</td>\n",
       "      <td>226685</td>\n",
       "      <td>2021-08-16</td>\n",
       "      <td>강남구</td>\n",
       "      <td>-</td>\n",
       "      <td>감염경로 조사중</td>\n",
       "      <td>Quarantined</td>\n",
       "    </tr>\n",
       "    <tr>\n",
       "      <th>3</th>\n",
       "      <td>72083</td>\n",
       "      <td>226669</td>\n",
       "      <td>2021-08-16</td>\n",
       "      <td>마포구</td>\n",
       "      <td>-</td>\n",
       "      <td>기타 확진자 접촉</td>\n",
       "      <td>Quarantined</td>\n",
       "    </tr>\n",
       "    <tr>\n",
       "      <th>4</th>\n",
       "      <td>72082</td>\n",
       "      <td>226644</td>\n",
       "      <td>2021-08-16</td>\n",
       "      <td>강남구</td>\n",
       "      <td>미국</td>\n",
       "      <td>해외유입</td>\n",
       "      <td>Quarantined</td>\n",
       "    </tr>\n",
       "    <tr>\n",
       "      <th>...</th>\n",
       "      <td>...</td>\n",
       "      <td>...</td>\n",
       "      <td>...</td>\n",
       "      <td>...</td>\n",
       "      <td>...</td>\n",
       "      <td>...</td>\n",
       "      <td>...</td>\n",
       "    </tr>\n",
       "    <tr>\n",
       "      <th>81</th>\n",
       "      <td>30005</td>\n",
       "      <td>95804</td>\n",
       "      <td>2021-03-14</td>\n",
       "      <td>송파구</td>\n",
       "      <td>-</td>\n",
       "      <td>타시도 확진자 접촉</td>\n",
       "      <td>Recovered</td>\n",
       "    </tr>\n",
       "    <tr>\n",
       "      <th>82</th>\n",
       "      <td>30004</td>\n",
       "      <td>95889</td>\n",
       "      <td>2021-03-14</td>\n",
       "      <td>종로구</td>\n",
       "      <td>-</td>\n",
       "      <td>감염경로 조사중</td>\n",
       "      <td>Recovered</td>\n",
       "    </tr>\n",
       "    <tr>\n",
       "      <th>83</th>\n",
       "      <td>30003</td>\n",
       "      <td>95799</td>\n",
       "      <td>2021-03-14</td>\n",
       "      <td>중구</td>\n",
       "      <td>-</td>\n",
       "      <td>중구 소재 주점/음식점 관련</td>\n",
       "      <td>Recovered</td>\n",
       "    </tr>\n",
       "    <tr>\n",
       "      <th>84</th>\n",
       "      <td>30002</td>\n",
       "      <td>95872</td>\n",
       "      <td>2021-03-14</td>\n",
       "      <td>종로구</td>\n",
       "      <td>-</td>\n",
       "      <td>기타 확진자 접촉</td>\n",
       "      <td>Recovered</td>\n",
       "    </tr>\n",
       "    <tr>\n",
       "      <th>85</th>\n",
       "      <td>30001</td>\n",
       "      <td>95806</td>\n",
       "      <td>2021-03-14</td>\n",
       "      <td>송파구</td>\n",
       "      <td>-</td>\n",
       "      <td>기타 확진자 접촉</td>\n",
       "      <td>Recovered</td>\n",
       "    </tr>\n",
       "  </tbody>\n",
       "</table>\n",
       "<p>42086 rows × 7 columns</p>\n",
       "</div>"
      ],
      "text/plain": [
       "    Number Patient Confirmed Date  Area Travel History Transmission Route  \\\n",
       "0    72086  226846     2021-08-16  동대문구              -           감염경로 조사중   \n",
       "1    72085  226698     2021-08-16   관악구              -          기타 확진자 접촉   \n",
       "2    72084  226685     2021-08-16   강남구              -           감염경로 조사중   \n",
       "3    72083  226669     2021-08-16   마포구              -          기타 확진자 접촉   \n",
       "4    72082  226644     2021-08-16   강남구             미국               해외유입   \n",
       "..     ...     ...            ...   ...            ...                ...   \n",
       "81   30005   95804     2021-03-14   송파구              -         타시도 확진자 접촉   \n",
       "82   30004   95889     2021-03-14   종로구              -           감염경로 조사중   \n",
       "83   30003   95799     2021-03-14    중구              -    중구 소재 주점/음식점 관련   \n",
       "84   30002   95872     2021-03-14   종로구              -          기타 확진자 접촉   \n",
       "85   30001   95806     2021-03-14   송파구              -          기타 확진자 접촉   \n",
       "\n",
       "         Status  \n",
       "0   Quarantined  \n",
       "1   Quarantined  \n",
       "2   Quarantined  \n",
       "3   Quarantined  \n",
       "4   Quarantined  \n",
       "..          ...  \n",
       "81    Recovered  \n",
       "82    Recovered  \n",
       "83    Recovered  \n",
       "84    Recovered  \n",
       "85    Recovered  \n",
       "\n",
       "[42086 rows x 7 columns]"
      ]
     },
     "execution_count": 611,
     "metadata": {},
     "output_type": "execute_result"
    }
   ],
   "source": [
    "df_all.loc[df_all[\"Status\"].str.contains(\"퇴원\"), \"Status\"] = \"Recovered\"\n",
    "df_all.loc[df_all[\"Status\"].str.contains(\"사망\"), \"Status\"] = \"Death\"\n",
    "df_all.loc[~df_all[\"Status\"].str.contains(\"Recovered|Death\"), \"Status\"] = \"Quarantined\"\n",
    "df_all"
   ]
  },
  {
   "cell_type": "code",
   "execution_count": 612,
   "id": "28834c1e",
   "metadata": {},
   "outputs": [
    {
     "data": {
      "text/html": [
       "<div>\n",
       "<style scoped>\n",
       "    .dataframe tbody tr th:only-of-type {\n",
       "        vertical-align: middle;\n",
       "    }\n",
       "\n",
       "    .dataframe tbody tr th {\n",
       "        vertical-align: top;\n",
       "    }\n",
       "\n",
       "    .dataframe thead th {\n",
       "        text-align: right;\n",
       "    }\n",
       "</style>\n",
       "<table border=\"1\" class=\"dataframe\">\n",
       "  <thead>\n",
       "    <tr style=\"text-align: right;\">\n",
       "      <th></th>\n",
       "      <th>Number</th>\n",
       "      <th>Patient</th>\n",
       "      <th>Confirmed Date</th>\n",
       "      <th>Area</th>\n",
       "      <th>Travel History</th>\n",
       "      <th>Transmission Route</th>\n",
       "      <th>Status</th>\n",
       "    </tr>\n",
       "  </thead>\n",
       "  <tbody>\n",
       "    <tr>\n",
       "      <th>0</th>\n",
       "      <td>72086</td>\n",
       "      <td>226846</td>\n",
       "      <td>2021-08-16</td>\n",
       "      <td>동대문구</td>\n",
       "      <td>-</td>\n",
       "      <td>Under Inspection</td>\n",
       "      <td>Quarantined</td>\n",
       "    </tr>\n",
       "    <tr>\n",
       "      <th>1</th>\n",
       "      <td>72085</td>\n",
       "      <td>226698</td>\n",
       "      <td>2021-08-16</td>\n",
       "      <td>관악구</td>\n",
       "      <td>-</td>\n",
       "      <td>Known</td>\n",
       "      <td>Quarantined</td>\n",
       "    </tr>\n",
       "    <tr>\n",
       "      <th>2</th>\n",
       "      <td>72084</td>\n",
       "      <td>226685</td>\n",
       "      <td>2021-08-16</td>\n",
       "      <td>강남구</td>\n",
       "      <td>-</td>\n",
       "      <td>Under Inspection</td>\n",
       "      <td>Quarantined</td>\n",
       "    </tr>\n",
       "    <tr>\n",
       "      <th>3</th>\n",
       "      <td>72083</td>\n",
       "      <td>226669</td>\n",
       "      <td>2021-08-16</td>\n",
       "      <td>마포구</td>\n",
       "      <td>-</td>\n",
       "      <td>Known</td>\n",
       "      <td>Quarantined</td>\n",
       "    </tr>\n",
       "    <tr>\n",
       "      <th>4</th>\n",
       "      <td>72082</td>\n",
       "      <td>226644</td>\n",
       "      <td>2021-08-16</td>\n",
       "      <td>강남구</td>\n",
       "      <td>미국</td>\n",
       "      <td>Overseas</td>\n",
       "      <td>Quarantined</td>\n",
       "    </tr>\n",
       "    <tr>\n",
       "      <th>...</th>\n",
       "      <td>...</td>\n",
       "      <td>...</td>\n",
       "      <td>...</td>\n",
       "      <td>...</td>\n",
       "      <td>...</td>\n",
       "      <td>...</td>\n",
       "      <td>...</td>\n",
       "    </tr>\n",
       "    <tr>\n",
       "      <th>81</th>\n",
       "      <td>30005</td>\n",
       "      <td>95804</td>\n",
       "      <td>2021-03-14</td>\n",
       "      <td>송파구</td>\n",
       "      <td>-</td>\n",
       "      <td>Known</td>\n",
       "      <td>Recovered</td>\n",
       "    </tr>\n",
       "    <tr>\n",
       "      <th>82</th>\n",
       "      <td>30004</td>\n",
       "      <td>95889</td>\n",
       "      <td>2021-03-14</td>\n",
       "      <td>종로구</td>\n",
       "      <td>-</td>\n",
       "      <td>Under Inspection</td>\n",
       "      <td>Recovered</td>\n",
       "    </tr>\n",
       "    <tr>\n",
       "      <th>83</th>\n",
       "      <td>30003</td>\n",
       "      <td>95799</td>\n",
       "      <td>2021-03-14</td>\n",
       "      <td>중구</td>\n",
       "      <td>-</td>\n",
       "      <td>Known</td>\n",
       "      <td>Recovered</td>\n",
       "    </tr>\n",
       "    <tr>\n",
       "      <th>84</th>\n",
       "      <td>30002</td>\n",
       "      <td>95872</td>\n",
       "      <td>2021-03-14</td>\n",
       "      <td>종로구</td>\n",
       "      <td>-</td>\n",
       "      <td>Known</td>\n",
       "      <td>Recovered</td>\n",
       "    </tr>\n",
       "    <tr>\n",
       "      <th>85</th>\n",
       "      <td>30001</td>\n",
       "      <td>95806</td>\n",
       "      <td>2021-03-14</td>\n",
       "      <td>송파구</td>\n",
       "      <td>-</td>\n",
       "      <td>Known</td>\n",
       "      <td>Recovered</td>\n",
       "    </tr>\n",
       "  </tbody>\n",
       "</table>\n",
       "<p>42086 rows × 7 columns</p>\n",
       "</div>"
      ],
      "text/plain": [
       "    Number Patient Confirmed Date  Area Travel History Transmission Route  \\\n",
       "0    72086  226846     2021-08-16  동대문구              -   Under Inspection   \n",
       "1    72085  226698     2021-08-16   관악구              -              Known   \n",
       "2    72084  226685     2021-08-16   강남구              -   Under Inspection   \n",
       "3    72083  226669     2021-08-16   마포구              -              Known   \n",
       "4    72082  226644     2021-08-16   강남구             미국           Overseas   \n",
       "..     ...     ...            ...   ...            ...                ...   \n",
       "81   30005   95804     2021-03-14   송파구              -              Known   \n",
       "82   30004   95889     2021-03-14   종로구              -   Under Inspection   \n",
       "83   30003   95799     2021-03-14    중구              -              Known   \n",
       "84   30002   95872     2021-03-14   종로구              -              Known   \n",
       "85   30001   95806     2021-03-14   송파구              -              Known   \n",
       "\n",
       "         Status  \n",
       "0   Quarantined  \n",
       "1   Quarantined  \n",
       "2   Quarantined  \n",
       "3   Quarantined  \n",
       "4   Quarantined  \n",
       "..          ...  \n",
       "81    Recovered  \n",
       "82    Recovered  \n",
       "83    Recovered  \n",
       "84    Recovered  \n",
       "85    Recovered  \n",
       "\n",
       "[42086 rows x 7 columns]"
      ]
     },
     "execution_count": 612,
     "metadata": {},
     "output_type": "execute_result"
    }
   ],
   "source": [
    "df_all.loc[df_all[\"Transmission Route\"].str.contains(\"조사중\"), \"Transmission Route\"] = \"Under Inspection\"\n",
    "df_all.loc[df_all[\"Transmission Route\"].str.contains(\"접촉|관련\"), \"Transmission Route\"] = \"Known\"\n",
    "df_all.loc[df_all[\"Transmission Route\"].str.contains(\"해외\"), \"Transmission Route\"] = \"Overseas\"\n",
    "df_all.loc[~df_all[\"Transmission Route\"].str.contains(\"Under Inspection|Known|Overseas\"), \"Transmission Route\"] = \"Unknown\"\n",
    "df_all"
   ]
  },
  {
   "cell_type": "code",
   "execution_count": 613,
   "id": "372ebe34",
   "metadata": {},
   "outputs": [],
   "source": [
    "df_all.loc[df_all[\"Area\"].str.contains(\"종로구\"), \"Area\"] = \"Jongno-gu\"\n",
    "df_all.loc[df_all[\"Area\"].str.contains(\"중구\"), \"Area\"] = \"Jung-gu\"\n",
    "df_all.loc[df_all[\"Area\"].str.contains(\"용산구\"), \"Area\"] = \"Yongsan-gu\"\n",
    "df_all.loc[df_all[\"Area\"].str.contains(\"성동구\"), \"Area\"] = \"Seongdong-gu\"\n",
    "df_all.loc[df_all[\"Area\"].str.contains(\"광진구\"), \"Area\"] = \"Gwangjin-gu\"\n",
    "df_all.loc[df_all[\"Area\"].str.contains(\"동대문구\"), \"Area\"] = \"Dongdaemun-gu\"\n",
    "df_all.loc[df_all[\"Area\"].str.contains(\"중랑구\"), \"Area\"] = \"Jungnang-gu\"\n",
    "df_all.loc[df_all[\"Area\"].str.contains(\"성북구\"), \"Area\"] = \"Seongbuk-gu\"\n",
    "df_all.loc[df_all[\"Area\"].str.contains(\"강북구\"), \"Area\"] = \"Gangbuk-gu\"\n",
    "df_all.loc[df_all[\"Area\"].str.contains(\"도봉구\"), \"Area\"] = \"Dobong-gu\"\n",
    "df_all.loc[df_all[\"Area\"].str.contains(\"노원구\"), \"Area\"] = \"Nowon-gu\"\n",
    "df_all.loc[df_all[\"Area\"].str.contains(\"은평구\"), \"Area\"] = \"Eunpyeong-gu\"\n",
    "df_all.loc[df_all[\"Area\"].str.contains(\"서대문구\"), \"Area\"] = \"Seodaemun-gu\"\n",
    "df_all.loc[df_all[\"Area\"].str.contains(\"마포구\"), \"Area\"] = \"Mapo-gu\"\n",
    "df_all.loc[df_all[\"Area\"].str.contains(\"양천구\"), \"Area\"] = \"Yangcheon-gu\"\n",
    "df_all.loc[df_all[\"Area\"].str.contains(\"강서구\"), \"Area\"] = \"Gangseo-gu\"\n",
    "df_all.loc[df_all[\"Area\"].str.contains(\"구로구\"), \"Area\"] = \"Guro-gu\"\n",
    "df_all.loc[df_all[\"Area\"].str.contains(\"금천구\"), \"Area\"] = \"Geumcheon-gu\"\n",
    "df_all.loc[df_all[\"Area\"].str.contains(\"영등포구\"), \"Area\"] = \"Yeongdeungpo-gu\"\n",
    "df_all.loc[df_all[\"Area\"].str.contains(\"동작구\"), \"Area\"] = \"Dongjak-gu\"\n",
    "df_all.loc[df_all[\"Area\"].str.contains(\"관악구\"), \"Area\"] = \"Gwanak-gu\"\n",
    "df_all.loc[df_all[\"Area\"].str.contains(\"서초구\"), \"Area\"] = \"Seocho-gu\"\n",
    "df_all.loc[df_all[\"Area\"].str.contains(\"강남구\"), \"Area\"] = \"Gangnam-gu\"\n",
    "df_all.loc[df_all[\"Area\"].str.contains(\"송파구\"), \"Area\"] = \"Songpa-gu\"\n",
    "df_all.loc[df_all[\"Area\"].str.contains(\"강동구\"), \"Area\"] = \"Gangdong-gu\"\n",
    "df_all.loc[df_all[\"Area\"].str.contains(\"타시도|기타\"), \"Area\"] = \"Another City\""
   ]
  },
  {
   "cell_type": "code",
   "execution_count": 614,
   "id": "c4d792ba",
   "metadata": {},
   "outputs": [],
   "source": [
    "file_name = 'covid_19_recent_data.csv'\n",
    "df_all.to_csv(file_name, index=False)"
   ]
  },
  {
   "cell_type": "code",
   "execution_count": 615,
   "id": "d0a63b6b",
   "metadata": {},
   "outputs": [
    {
     "data": {
      "text/html": [
       "<div>\n",
       "<style scoped>\n",
       "    .dataframe tbody tr th:only-of-type {\n",
       "        vertical-align: middle;\n",
       "    }\n",
       "\n",
       "    .dataframe tbody tr th {\n",
       "        vertical-align: top;\n",
       "    }\n",
       "\n",
       "    .dataframe thead th {\n",
       "        text-align: right;\n",
       "    }\n",
       "</style>\n",
       "<table border=\"1\" class=\"dataframe\">\n",
       "  <thead>\n",
       "    <tr style=\"text-align: right;\">\n",
       "      <th></th>\n",
       "      <th>Number</th>\n",
       "      <th>Patient</th>\n",
       "      <th>Confirmed Date</th>\n",
       "      <th>Area</th>\n",
       "      <th>Travel History</th>\n",
       "      <th>Transmission Route</th>\n",
       "      <th>Status</th>\n",
       "    </tr>\n",
       "  </thead>\n",
       "  <tbody>\n",
       "    <tr>\n",
       "      <th>0</th>\n",
       "      <td>72086</td>\n",
       "      <td>226846</td>\n",
       "      <td>2021-08-16</td>\n",
       "      <td>Dongdaemun-gu</td>\n",
       "      <td>-</td>\n",
       "      <td>Under Inspection</td>\n",
       "      <td>Quarantined</td>\n",
       "    </tr>\n",
       "    <tr>\n",
       "      <th>1</th>\n",
       "      <td>72085</td>\n",
       "      <td>226698</td>\n",
       "      <td>2021-08-16</td>\n",
       "      <td>Gwanak-gu</td>\n",
       "      <td>-</td>\n",
       "      <td>Known</td>\n",
       "      <td>Quarantined</td>\n",
       "    </tr>\n",
       "    <tr>\n",
       "      <th>2</th>\n",
       "      <td>72084</td>\n",
       "      <td>226685</td>\n",
       "      <td>2021-08-16</td>\n",
       "      <td>Gangnam-gu</td>\n",
       "      <td>-</td>\n",
       "      <td>Under Inspection</td>\n",
       "      <td>Quarantined</td>\n",
       "    </tr>\n",
       "    <tr>\n",
       "      <th>3</th>\n",
       "      <td>72083</td>\n",
       "      <td>226669</td>\n",
       "      <td>2021-08-16</td>\n",
       "      <td>Mapo-gu</td>\n",
       "      <td>-</td>\n",
       "      <td>Known</td>\n",
       "      <td>Quarantined</td>\n",
       "    </tr>\n",
       "    <tr>\n",
       "      <th>4</th>\n",
       "      <td>72082</td>\n",
       "      <td>226644</td>\n",
       "      <td>2021-08-16</td>\n",
       "      <td>Gangnam-gu</td>\n",
       "      <td>미국</td>\n",
       "      <td>Overseas</td>\n",
       "      <td>Quarantined</td>\n",
       "    </tr>\n",
       "    <tr>\n",
       "      <th>...</th>\n",
       "      <td>...</td>\n",
       "      <td>...</td>\n",
       "      <td>...</td>\n",
       "      <td>...</td>\n",
       "      <td>...</td>\n",
       "      <td>...</td>\n",
       "      <td>...</td>\n",
       "    </tr>\n",
       "    <tr>\n",
       "      <th>42081</th>\n",
       "      <td>30005</td>\n",
       "      <td>95804</td>\n",
       "      <td>2021-03-14</td>\n",
       "      <td>Songpa-gu</td>\n",
       "      <td>-</td>\n",
       "      <td>Known</td>\n",
       "      <td>Recovered</td>\n",
       "    </tr>\n",
       "    <tr>\n",
       "      <th>42082</th>\n",
       "      <td>30004</td>\n",
       "      <td>95889</td>\n",
       "      <td>2021-03-14</td>\n",
       "      <td>Jongno-gu</td>\n",
       "      <td>-</td>\n",
       "      <td>Under Inspection</td>\n",
       "      <td>Recovered</td>\n",
       "    </tr>\n",
       "    <tr>\n",
       "      <th>42083</th>\n",
       "      <td>30003</td>\n",
       "      <td>95799</td>\n",
       "      <td>2021-03-14</td>\n",
       "      <td>Jung-gu</td>\n",
       "      <td>-</td>\n",
       "      <td>Known</td>\n",
       "      <td>Recovered</td>\n",
       "    </tr>\n",
       "    <tr>\n",
       "      <th>42084</th>\n",
       "      <td>30002</td>\n",
       "      <td>95872</td>\n",
       "      <td>2021-03-14</td>\n",
       "      <td>Jongno-gu</td>\n",
       "      <td>-</td>\n",
       "      <td>Known</td>\n",
       "      <td>Recovered</td>\n",
       "    </tr>\n",
       "    <tr>\n",
       "      <th>42085</th>\n",
       "      <td>30001</td>\n",
       "      <td>95806</td>\n",
       "      <td>2021-03-14</td>\n",
       "      <td>Songpa-gu</td>\n",
       "      <td>-</td>\n",
       "      <td>Known</td>\n",
       "      <td>Recovered</td>\n",
       "    </tr>\n",
       "  </tbody>\n",
       "</table>\n",
       "<p>42086 rows × 7 columns</p>\n",
       "</div>"
      ],
      "text/plain": [
       "       Number  Patient Confirmed Date           Area Travel History  \\\n",
       "0       72086   226846     2021-08-16  Dongdaemun-gu              -   \n",
       "1       72085   226698     2021-08-16      Gwanak-gu              -   \n",
       "2       72084   226685     2021-08-16     Gangnam-gu              -   \n",
       "3       72083   226669     2021-08-16        Mapo-gu              -   \n",
       "4       72082   226644     2021-08-16     Gangnam-gu             미국   \n",
       "...       ...      ...            ...            ...            ...   \n",
       "42081   30005    95804     2021-03-14      Songpa-gu              -   \n",
       "42082   30004    95889     2021-03-14      Jongno-gu              -   \n",
       "42083   30003    95799     2021-03-14        Jung-gu              -   \n",
       "42084   30002    95872     2021-03-14      Jongno-gu              -   \n",
       "42085   30001    95806     2021-03-14      Songpa-gu              -   \n",
       "\n",
       "      Transmission Route       Status  \n",
       "0       Under Inspection  Quarantined  \n",
       "1                  Known  Quarantined  \n",
       "2       Under Inspection  Quarantined  \n",
       "3                  Known  Quarantined  \n",
       "4               Overseas  Quarantined  \n",
       "...                  ...          ...  \n",
       "42081              Known    Recovered  \n",
       "42082   Under Inspection    Recovered  \n",
       "42083              Known    Recovered  \n",
       "42084              Known    Recovered  \n",
       "42085              Known    Recovered  \n",
       "\n",
       "[42086 rows x 7 columns]"
      ]
     },
     "execution_count": 615,
     "metadata": {},
     "output_type": "execute_result"
    }
   ],
   "source": [
    "pd.read_csv(file_name)"
   ]
  }
 ],
 "metadata": {
  "kernelspec": {
   "display_name": "Python 3",
   "language": "python",
   "name": "python3"
  },
  "language_info": {
   "codemirror_mode": {
    "name": "ipython",
    "version": 3
   },
   "file_extension": ".py",
   "mimetype": "text/x-python",
   "name": "python",
   "nbconvert_exporter": "python",
   "pygments_lexer": "ipython3",
   "version": "3.8.8"
  }
 },
 "nbformat": 4,
 "nbformat_minor": 5
}
