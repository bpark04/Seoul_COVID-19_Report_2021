{
 "cells": [
  {
   "cell_type": "code",
   "execution_count": 27,
   "id": "4ba6d5d2",
   "metadata": {},
   "outputs": [],
   "source": [
    "# https://pandas.pydata.org/pandas-docs/stable/user_guide/visualization.html\n",
    "import pandas as pd\n",
    "import numpy as np\n",
    "import matplotlib as mpl\n",
    "import matplotlib.pyplot as plt\n",
    "%matplotlib inline"
   ]
  },
  {
   "cell_type": "code",
   "execution_count": 28,
   "id": "d9b737ad",
   "metadata": {},
   "outputs": [
    {
     "data": {
      "text/html": [
       "<div>\n",
       "<style scoped>\n",
       "    .dataframe tbody tr th:only-of-type {\n",
       "        vertical-align: middle;\n",
       "    }\n",
       "\n",
       "    .dataframe tbody tr th {\n",
       "        vertical-align: top;\n",
       "    }\n",
       "\n",
       "    .dataframe thead th {\n",
       "        text-align: right;\n",
       "    }\n",
       "</style>\n",
       "<table border=\"1\" class=\"dataframe\">\n",
       "  <thead>\n",
       "    <tr style=\"text-align: right;\">\n",
       "      <th></th>\n",
       "      <th>A</th>\n",
       "      <th>B</th>\n",
       "      <th>C</th>\n",
       "      <th>D</th>\n",
       "      <th>E</th>\n",
       "    </tr>\n",
       "  </thead>\n",
       "  <tbody>\n",
       "    <tr>\n",
       "      <th>count</th>\n",
       "      <td>10.000000</td>\n",
       "      <td>10.000000</td>\n",
       "      <td>10.000000</td>\n",
       "      <td>10.000000</td>\n",
       "      <td>10.000000</td>\n",
       "    </tr>\n",
       "    <tr>\n",
       "      <th>mean</th>\n",
       "      <td>0.514204</td>\n",
       "      <td>0.531840</td>\n",
       "      <td>0.483876</td>\n",
       "      <td>0.470693</td>\n",
       "      <td>0.444731</td>\n",
       "    </tr>\n",
       "    <tr>\n",
       "      <th>std</th>\n",
       "      <td>0.277346</td>\n",
       "      <td>0.238382</td>\n",
       "      <td>0.271919</td>\n",
       "      <td>0.316422</td>\n",
       "      <td>0.322452</td>\n",
       "    </tr>\n",
       "    <tr>\n",
       "      <th>min</th>\n",
       "      <td>0.008211</td>\n",
       "      <td>0.166046</td>\n",
       "      <td>0.073519</td>\n",
       "      <td>0.020308</td>\n",
       "      <td>0.064914</td>\n",
       "    </tr>\n",
       "    <tr>\n",
       "      <th>25%</th>\n",
       "      <td>0.333896</td>\n",
       "      <td>0.333167</td>\n",
       "      <td>0.302437</td>\n",
       "      <td>0.206396</td>\n",
       "      <td>0.212959</td>\n",
       "    </tr>\n",
       "    <tr>\n",
       "      <th>50%</th>\n",
       "      <td>0.473662</td>\n",
       "      <td>0.554777</td>\n",
       "      <td>0.533142</td>\n",
       "      <td>0.548339</td>\n",
       "      <td>0.337660</td>\n",
       "    </tr>\n",
       "    <tr>\n",
       "      <th>75%</th>\n",
       "      <td>0.747811</td>\n",
       "      <td>0.666701</td>\n",
       "      <td>0.669373</td>\n",
       "      <td>0.702427</td>\n",
       "      <td>0.740460</td>\n",
       "    </tr>\n",
       "    <tr>\n",
       "      <th>max</th>\n",
       "      <td>0.917267</td>\n",
       "      <td>0.861074</td>\n",
       "      <td>0.916230</td>\n",
       "      <td>0.878622</td>\n",
       "      <td>0.921744</td>\n",
       "    </tr>\n",
       "  </tbody>\n",
       "</table>\n",
       "</div>"
      ],
      "text/plain": [
       "               A          B          C          D          E\n",
       "count  10.000000  10.000000  10.000000  10.000000  10.000000\n",
       "mean    0.514204   0.531840   0.483876   0.470693   0.444731\n",
       "std     0.277346   0.238382   0.271919   0.316422   0.322452\n",
       "min     0.008211   0.166046   0.073519   0.020308   0.064914\n",
       "25%     0.333896   0.333167   0.302437   0.206396   0.212959\n",
       "50%     0.473662   0.554777   0.533142   0.548339   0.337660\n",
       "75%     0.747811   0.666701   0.669373   0.702427   0.740460\n",
       "max     0.917267   0.861074   0.916230   0.878622   0.921744"
      ]
     },
     "execution_count": 28,
     "metadata": {},
     "output_type": "execute_result"
    }
   ],
   "source": [
    "df = pd.DataFrame(np.random.rand(10, 5), columns=[\"A\", \"B\", \"C\", \"D\", \"E\"])\n",
    "df.describe()"
   ]
  },
  {
   "cell_type": "code",
   "execution_count": 29,
   "id": "f9342029",
   "metadata": {},
   "outputs": [
    {
     "data": {
      "text/plain": [
       "<AxesSubplot:>"
      ]
     },
     "execution_count": 29,
     "metadata": {},
     "output_type": "execute_result"
    },
    {
     "data": {
      "image/png": "[encoded data removed]",
      "text/plain": [
       "<Figure size 432x288 with 1 Axes>"
      ]
     },
     "metadata": {
      "needs_background": "light"
     },
     "output_type": "display_data"
    }
   ],
   "source": [
    "df.plot.box()"
   ]
  },
  {
   "cell_type": "code",
   "execution_count": 30,
   "id": "d2d4cba0",
   "metadata": {},
   "outputs": [],
   "source": [
    "color = {\n",
    "     \"boxes\": \"DarkGreen\",\n",
    "     \"whiskers\": \"DarkOrange\",\n",
    "     \"medians\": \"DarkBlue\",\n",
    "     \"caps\": \"Gray\",\n",
    " }"
   ]
  },
  {
   "cell_type": "code",
   "execution_count": 31,
   "id": "fa520d78",
   "metadata": {},
   "outputs": [
    {
     "data": {
      "text/plain": [
       "<AxesSubplot:>"
      ]
     },
     "execution_count": 31,
     "metadata": {},
     "output_type": "execute_result"
    },
    {
     "data": {
      "image/png": "[encoded data removed]",
      "text/plain": [
       "<Figure size 432x288 with 1 Axes>"
      ]
     },
     "metadata": {
      "needs_background": "light"
     },
     "output_type": "display_data"
    }
   ],
   "source": [
    "df.plot.box(color=color, sym=\"r+\")"
   ]
  },
  {
   "cell_type": "code",
   "execution_count": 32,
   "id": "b3cf976a",
   "metadata": {},
   "outputs": [
    {
     "data": {
      "text/plain": [
       "<AxesSubplot:>"
      ]
     },
     "execution_count": 32,
     "metadata": {},
     "output_type": "execute_result"
    },
    {
     "data": {
      "image/png": "[encoded data removed]",
      "text/plain": [
       "<Figure size 432x288 with 1 Axes>"
      ]
     },
     "metadata": {
      "needs_background": "light"
     },
     "output_type": "display_data"
    }
   ],
   "source": [
    "df.plot.box(vert=False, positions=[1, 4, 5, 6, 8])"
   ]
  },
  {
   "cell_type": "code",
   "execution_count": 33,
   "id": "a91ae3fa",
   "metadata": {},
   "outputs": [
    {
     "data": {
      "text/html": [
       "<div>\n",
       "<style scoped>\n",
       "    .dataframe tbody tr th:only-of-type {\n",
       "        vertical-align: middle;\n",
       "    }\n",
       "\n",
       "    .dataframe tbody tr th {\n",
       "        vertical-align: top;\n",
       "    }\n",
       "\n",
       "    .dataframe thead th {\n",
       "        text-align: right;\n",
       "    }\n",
       "</style>\n",
       "<table border=\"1\" class=\"dataframe\">\n",
       "  <thead>\n",
       "    <tr style=\"text-align: right;\">\n",
       "      <th></th>\n",
       "      <th>0</th>\n",
       "      <th>1</th>\n",
       "      <th>2</th>\n",
       "      <th>3</th>\n",
       "      <th>4</th>\n",
       "    </tr>\n",
       "  </thead>\n",
       "  <tbody>\n",
       "    <tr>\n",
       "      <th>0</th>\n",
       "      <td>0.054779</td>\n",
       "      <td>0.691421</td>\n",
       "      <td>0.416306</td>\n",
       "      <td>0.931800</td>\n",
       "      <td>0.540538</td>\n",
       "    </tr>\n",
       "    <tr>\n",
       "      <th>1</th>\n",
       "      <td>0.604052</td>\n",
       "      <td>0.336484</td>\n",
       "      <td>0.065348</td>\n",
       "      <td>0.134452</td>\n",
       "      <td>0.089768</td>\n",
       "    </tr>\n",
       "    <tr>\n",
       "      <th>2</th>\n",
       "      <td>0.399614</td>\n",
       "      <td>0.619166</td>\n",
       "      <td>0.690725</td>\n",
       "      <td>0.939603</td>\n",
       "      <td>0.958185</td>\n",
       "    </tr>\n",
       "    <tr>\n",
       "      <th>3</th>\n",
       "      <td>0.846290</td>\n",
       "      <td>0.944963</td>\n",
       "      <td>0.891175</td>\n",
       "      <td>0.289738</td>\n",
       "      <td>0.991104</td>\n",
       "    </tr>\n",
       "    <tr>\n",
       "      <th>4</th>\n",
       "      <td>0.038742</td>\n",
       "      <td>0.601661</td>\n",
       "      <td>0.810742</td>\n",
       "      <td>0.821418</td>\n",
       "      <td>0.348509</td>\n",
       "    </tr>\n",
       "    <tr>\n",
       "      <th>5</th>\n",
       "      <td>0.657551</td>\n",
       "      <td>0.451865</td>\n",
       "      <td>0.013081</td>\n",
       "      <td>0.943591</td>\n",
       "      <td>0.062993</td>\n",
       "    </tr>\n",
       "    <tr>\n",
       "      <th>6</th>\n",
       "      <td>0.796080</td>\n",
       "      <td>0.847721</td>\n",
       "      <td>0.414964</td>\n",
       "      <td>0.270527</td>\n",
       "      <td>0.566256</td>\n",
       "    </tr>\n",
       "    <tr>\n",
       "      <th>7</th>\n",
       "      <td>0.342101</td>\n",
       "      <td>0.296584</td>\n",
       "      <td>0.716640</td>\n",
       "      <td>0.139933</td>\n",
       "      <td>0.368209</td>\n",
       "    </tr>\n",
       "    <tr>\n",
       "      <th>8</th>\n",
       "      <td>0.180355</td>\n",
       "      <td>0.093254</td>\n",
       "      <td>0.803040</td>\n",
       "      <td>0.996761</td>\n",
       "      <td>0.033649</td>\n",
       "    </tr>\n",
       "    <tr>\n",
       "      <th>9</th>\n",
       "      <td>0.344432</td>\n",
       "      <td>0.177049</td>\n",
       "      <td>0.949923</td>\n",
       "      <td>0.145127</td>\n",
       "      <td>0.273626</td>\n",
       "    </tr>\n",
       "  </tbody>\n",
       "</table>\n",
       "</div>"
      ],
      "text/plain": [
       "          0         1         2         3         4\n",
       "0  0.054779  0.691421  0.416306  0.931800  0.540538\n",
       "1  0.604052  0.336484  0.065348  0.134452  0.089768\n",
       "2  0.399614  0.619166  0.690725  0.939603  0.958185\n",
       "3  0.846290  0.944963  0.891175  0.289738  0.991104\n",
       "4  0.038742  0.601661  0.810742  0.821418  0.348509\n",
       "5  0.657551  0.451865  0.013081  0.943591  0.062993\n",
       "6  0.796080  0.847721  0.414964  0.270527  0.566256\n",
       "7  0.342101  0.296584  0.716640  0.139933  0.368209\n",
       "8  0.180355  0.093254  0.803040  0.996761  0.033649\n",
       "9  0.344432  0.177049  0.949923  0.145127  0.273626"
      ]
     },
     "execution_count": 33,
     "metadata": {},
     "output_type": "execute_result"
    }
   ],
   "source": [
    "df2 = pd.DataFrame(np.random.rand(10, 5))\n",
    "df2"
   ]
  },
  {
   "cell_type": "code",
   "execution_count": 34,
   "id": "d064c84f",
   "metadata": {},
   "outputs": [
    {
     "data": {
      "text/plain": [
       "<AxesSubplot:>"
      ]
     },
     "execution_count": 34,
     "metadata": {},
     "output_type": "execute_result"
    },
    {
     "data": {
      "image/png": "[encoded data removed]",
      "text/plain": [
       "<Figure size 432x288 with 1 Axes>"
      ]
     },
     "metadata": {
      "needs_background": "light"
     },
     "output_type": "display_data"
    }
   ],
   "source": [
    "df2.boxplot()         # df2.plot.box()"
   ]
  },
  {
   "cell_type": "code",
   "execution_count": 35,
   "id": "3a17561d",
   "metadata": {},
   "outputs": [
    {
     "data": {
      "text/html": [
       "<div>\n",
       "<style scoped>\n",
       "    .dataframe tbody tr th:only-of-type {\n",
       "        vertical-align: middle;\n",
       "    }\n",
       "\n",
       "    .dataframe tbody tr th {\n",
       "        vertical-align: top;\n",
       "    }\n",
       "\n",
       "    .dataframe thead th {\n",
       "        text-align: right;\n",
       "    }\n",
       "</style>\n",
       "<table border=\"1\" class=\"dataframe\">\n",
       "  <thead>\n",
       "    <tr style=\"text-align: right;\">\n",
       "      <th></th>\n",
       "      <th>Col1</th>\n",
       "      <th>Col2</th>\n",
       "    </tr>\n",
       "  </thead>\n",
       "  <tbody>\n",
       "    <tr>\n",
       "      <th>0</th>\n",
       "      <td>0.432778</td>\n",
       "      <td>0.225812</td>\n",
       "    </tr>\n",
       "    <tr>\n",
       "      <th>1</th>\n",
       "      <td>0.482374</td>\n",
       "      <td>0.520744</td>\n",
       "    </tr>\n",
       "    <tr>\n",
       "      <th>2</th>\n",
       "      <td>0.205849</td>\n",
       "      <td>0.561010</td>\n",
       "    </tr>\n",
       "    <tr>\n",
       "      <th>3</th>\n",
       "      <td>0.779117</td>\n",
       "      <td>0.601722</td>\n",
       "    </tr>\n",
       "    <tr>\n",
       "      <th>4</th>\n",
       "      <td>0.287131</td>\n",
       "      <td>0.809006</td>\n",
       "    </tr>\n",
       "  </tbody>\n",
       "</table>\n",
       "</div>"
      ],
      "text/plain": [
       "       Col1      Col2\n",
       "0  0.432778  0.225812\n",
       "1  0.482374  0.520744\n",
       "2  0.205849  0.561010\n",
       "3  0.779117  0.601722\n",
       "4  0.287131  0.809006"
      ]
     },
     "execution_count": 35,
     "metadata": {},
     "output_type": "execute_result"
    }
   ],
   "source": [
    "df3 = pd.DataFrame(np.random.rand(10, 2), columns=[\"Col1\", \"Col2\"])\n",
    "df3.head()"
   ]
  },
  {
   "cell_type": "code",
   "execution_count": 37,
   "id": "3a1cf0ea",
   "metadata": {},
   "outputs": [
    {
     "data": {
      "text/html": [
       "<div>\n",
       "<style scoped>\n",
       "    .dataframe tbody tr th:only-of-type {\n",
       "        vertical-align: middle;\n",
       "    }\n",
       "\n",
       "    .dataframe tbody tr th {\n",
       "        vertical-align: top;\n",
       "    }\n",
       "\n",
       "    .dataframe thead th {\n",
       "        text-align: right;\n",
       "    }\n",
       "</style>\n",
       "<table border=\"1\" class=\"dataframe\">\n",
       "  <thead>\n",
       "    <tr style=\"text-align: right;\">\n",
       "      <th></th>\n",
       "      <th>Col1</th>\n",
       "      <th>Col2</th>\n",
       "      <th>X</th>\n",
       "    </tr>\n",
       "  </thead>\n",
       "  <tbody>\n",
       "    <tr>\n",
       "      <th>0</th>\n",
       "      <td>0.432778</td>\n",
       "      <td>0.225812</td>\n",
       "      <td>A</td>\n",
       "    </tr>\n",
       "    <tr>\n",
       "      <th>1</th>\n",
       "      <td>0.482374</td>\n",
       "      <td>0.520744</td>\n",
       "      <td>A</td>\n",
       "    </tr>\n",
       "    <tr>\n",
       "      <th>2</th>\n",
       "      <td>0.205849</td>\n",
       "      <td>0.561010</td>\n",
       "      <td>A</td>\n",
       "    </tr>\n",
       "    <tr>\n",
       "      <th>3</th>\n",
       "      <td>0.779117</td>\n",
       "      <td>0.601722</td>\n",
       "      <td>A</td>\n",
       "    </tr>\n",
       "    <tr>\n",
       "      <th>4</th>\n",
       "      <td>0.287131</td>\n",
       "      <td>0.809006</td>\n",
       "      <td>A</td>\n",
       "    </tr>\n",
       "    <tr>\n",
       "      <th>5</th>\n",
       "      <td>0.501619</td>\n",
       "      <td>0.267908</td>\n",
       "      <td>B</td>\n",
       "    </tr>\n",
       "    <tr>\n",
       "      <th>6</th>\n",
       "      <td>0.835185</td>\n",
       "      <td>0.620871</td>\n",
       "      <td>B</td>\n",
       "    </tr>\n",
       "    <tr>\n",
       "      <th>7</th>\n",
       "      <td>0.988035</td>\n",
       "      <td>0.855408</td>\n",
       "      <td>B</td>\n",
       "    </tr>\n",
       "    <tr>\n",
       "      <th>8</th>\n",
       "      <td>0.209819</td>\n",
       "      <td>0.539026</td>\n",
       "      <td>B</td>\n",
       "    </tr>\n",
       "    <tr>\n",
       "      <th>9</th>\n",
       "      <td>0.047281</td>\n",
       "      <td>0.792886</td>\n",
       "      <td>B</td>\n",
       "    </tr>\n",
       "  </tbody>\n",
       "</table>\n",
       "</div>"
      ],
      "text/plain": [
       "       Col1      Col2  X\n",
       "0  0.432778  0.225812  A\n",
       "1  0.482374  0.520744  A\n",
       "2  0.205849  0.561010  A\n",
       "3  0.779117  0.601722  A\n",
       "4  0.287131  0.809006  A\n",
       "5  0.501619  0.267908  B\n",
       "6  0.835185  0.620871  B\n",
       "7  0.988035  0.855408  B\n",
       "8  0.209819  0.539026  B\n",
       "9  0.047281  0.792886  B"
      ]
     },
     "execution_count": 37,
     "metadata": {},
     "output_type": "execute_result"
    }
   ],
   "source": [
    "df3[\"X\"] = pd.Series([\"A\", \"A\", \"A\", \"A\", \"A\", \"B\", \"B\", \"B\", \"B\", \"B\"])\n",
    "df3"
   ]
  },
  {
   "cell_type": "code",
   "execution_count": 39,
   "id": "885276fa",
   "metadata": {},
   "outputs": [
    {
     "data": {
      "image/png": "[encoded data removed]",
      "text/plain": [
       "<Figure size 432x288 with 2 Axes>"
      ]
     },
     "metadata": {
      "needs_background": "light"
     },
     "output_type": "display_data"
    }
   ],
   "source": [
    "bp = df3.boxplot(by='X')"
   ]
  },
  {
   "cell_type": "code",
   "execution_count": 41,
   "id": "f5abd486",
   "metadata": {},
   "outputs": [
    {
     "data": {
      "image/png": "[encoded data removed]",
      "text/plain": [
       "<Figure size 432x288 with 2 Axes>"
      ]
     },
     "metadata": {
      "needs_background": "light"
     },
     "output_type": "display_data"
    }
   ],
   "source": [
    "bp = df3.groupby(\"X\").boxplot()"
   ]
  },
  {
   "cell_type": "code",
   "execution_count": null,
   "id": "9a83a1e4",
   "metadata": {},
   "outputs": [],
   "source": []
  }
 ],
 "metadata": {
  "kernelspec": {
   "display_name": "Python 3",
   "language": "python",
   "name": "python3"
  },
  "language_info": {
   "codemirror_mode": {
    "name": "ipython",
    "version": 3
   },
   "file_extension": ".py",
   "mimetype": "text/x-python",
   "name": "python",
   "nbconvert_exporter": "python",
   "pygments_lexer": "ipython3",
   "version": "3.8.8"
  }
 },
 "nbformat": 4,
 "nbformat_minor": 5
}
